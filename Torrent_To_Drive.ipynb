{
  "nbformat": 4,
  "nbformat_minor": 0,
  "metadata": {
    "colab": {
      "name": "Torrent To Drive.ipynb",
      "provenance": [],
      "authorship_tag": "ABX9TyPORdUEgrUJDRN5EQZdPeFT",
      "include_colab_link": true
    },
    "kernelspec": {
      "name": "python3",
      "display_name": "Python 3"
    }
  },
  "cells": [
    {
      "cell_type": "markdown",
      "metadata": {
        "id": "view-in-github",
        "colab_type": "text"
      },
      "source": [
        "<a href=\"https://colab.research.google.com/github/musiniac/GoogelColabTricks/blob/main/Torrent_To_Drive.ipynb\" target=\"_parent\"><img src=\"https://colab.research.google.com/assets/colab-badge.svg\" alt=\"Open In Colab\"/></a>"
      ]
    },
    {
      "cell_type": "markdown",
      "metadata": {
        "id": "iojl0LWCV_an"
      },
      "source": [
        "# **Mount Google Drive**\r\n"
      ]
    },
    {
      "cell_type": "code",
      "metadata": {
        "id": "FID6sZoYBNaL"
      },
      "source": [
        "from google.colab import drive\n",
        "drive.mount('/content/drive')"
      ],
      "execution_count": null,
      "outputs": []
    },
    {
      "cell_type": "markdown",
      "metadata": {
        "id": "v-aQXNTzxzAZ"
      },
      "source": [
        "# **Mount Dropbox**"
      ]
    },
    {
      "cell_type": "markdown",
      "metadata": {
        "id": "yUot0CmRKAs0"
      },
      "source": [
        "## ***Install dbxfs***"
      ]
    },
    {
      "cell_type": "code",
      "metadata": {
        "id": "ie5bGXrTyVi0"
      },
      "source": [
        "!sudo pip3 install dbxfs"
      ],
      "execution_count": null,
      "outputs": []
    },
    {
      "cell_type": "markdown",
      "metadata": {
        "id": "E3TIBRjSKKVx"
      },
      "source": [
        "## ***Mount Dropbox***"
      ]
    },
    {
      "cell_type": "code",
      "metadata": {
        "id": "N00xd3rUBUlQ"
      },
      "source": [
        "!sudo mkdir /content/mydropbox"
      ],
      "execution_count": null,
      "outputs": []
    },
    {
      "cell_type": "code",
      "metadata": {
        "id": "bZu5iMVECIrD"
      },
      "source": [
        "!sudo dbxfs /content/mydropbox"
      ],
      "execution_count": null,
      "outputs": []
    },
    {
      "cell_type": "markdown",
      "metadata": {
        "id": "rj7Z2L-mfMC6"
      },
      "source": [
        "# **Mount Mega**"
      ]
    },
    {
      "cell_type": "markdown",
      "metadata": {
        "id": "HM2yPvXBfWHW"
      },
      "source": [
        "1. Download & Install Latest Setup in colab: https://rclone.org/downloads/"
      ]
    },
    {
      "cell_type": "code",
      "metadata": {
        "id": "EYmDiVI4famp"
      },
      "source": [
        "!wget https://downloads.rclone.org/v1.53.3/rclone-v1.53.3-linux-amd64.deb\r\n",
        "!apt install ./rclone-v1.53.3-linux-amd64.deb"
      ],
      "execution_count": null,
      "outputs": []
    },
    {
      "cell_type": "markdown",
      "metadata": {
        "id": "NfQkj9L2fefe"
      },
      "source": [
        "2. Authenticate Mega\r\n",
        "\r\n",
        "* Type: n (New Remote)\r\n",
        "\r\n",
        "* Type the name: Mega\r\n",
        "\r\n",
        "* Type 21 (Mega is listed it's in the number 21)\r\n",
        "\r\n",
        "* Type email@gmail (User name)\r\n",
        "\r\n",
        "* Type: y (Yes type in my own password)\r\n",
        "\r\n",
        "* Enter the password:\r\n",
        "\r\n",
        "* Type: n (Edit advanced config?)\r\n",
        "\r\n",
        "* Type: y (Yes this is OK (default))\r\n",
        "* Type: q (Quit config)"
      ]
    },
    {
      "cell_type": "code",
      "metadata": {
        "id": "tng8TUPvfnzH"
      },
      "source": [
        "!rclone config"
      ],
      "execution_count": null,
      "outputs": []
    },
    {
      "cell_type": "markdown",
      "metadata": {
        "id": "8J0iglQZfspa"
      },
      "source": [
        "3. Mount Mega"
      ]
    },
    {
      "cell_type": "code",
      "metadata": {
        "id": "oJ7oGDDWfx7z"
      },
      "source": [
        "!sudo mkdir /content/mega2\r\n",
        "!nohup rclone --vfs-cache-mode writes mount mega: /content/mega2 &"
      ],
      "execution_count": null,
      "outputs": []
    },
    {
      "cell_type": "markdown",
      "metadata": {
        "id": "j2hTmTB2uRsx"
      },
      "source": [
        "# **Sync between Cloud Storage Easily**"
      ]
    },
    {
      "cell_type": "code",
      "metadata": {
        "id": "uFvq7TPlwB_P"
      },
      "source": [
        "!sudo cp -av \"/content/mega\"   \"/content/drive\""
      ],
      "execution_count": null,
      "outputs": []
    },
    {
      "cell_type": "code",
      "metadata": {
        "id": "sBVK4qKSyXse"
      },
      "source": [
        "!sudo mv -v \"/content/drive/MyDrive/Office\" \"/content/drive/Shareddrives/TeamDrive1\""
      ],
      "execution_count": null,
      "outputs": []
    },
    {
      "cell_type": "code",
      "metadata": {
        "id": "w73UDOhayZYj"
      },
      "source": [
        "!ls  \"/path\""
      ],
      "execution_count": null,
      "outputs": []
    },
    {
      "cell_type": "markdown",
      "metadata": {
        "id": "yZcUPYKhiVuf"
      },
      "source": [
        "# **Extract .Zip Files**"
      ]
    },
    {
      "cell_type": "code",
      "metadata": {
        "id": "NEs7mTDEipLP"
      },
      "source": [
        "!cd \"/content/mwga\" && unzip \"/content/mwga/Your.zip\" -d \"/content/mega\""
      ],
      "execution_count": null,
      "outputs": []
    },
    {
      "cell_type": "markdown",
      "metadata": {
        "id": "7hIFCZs5-f0i"
      },
      "source": [
        "# **Extract .Zip.Tar .Rar .7z Files**"
      ]
    },
    {
      "cell_type": "code",
      "metadata": {
        "id": "v_M7yKRo_BKH",
        "cellView": "form"
      },
      "source": [
        "# ============================= FORM ============================= #\r\n",
        "# @markdown #### ⬅️ Extract Files\r\n",
        "MODE = \"7Z\"  # @param [\"UNZIP\", \"UNTAR\", \"UNRAR\", \"7Z\"]\r\n",
        "PATH_TO_FILE = \"\"  # @param {type:\"string\"}\r\n",
        "extractPath = \"\"  # @param {type:\"string\"}\r\n",
        "ARCHIVE_PASSWORD = \"\" #@param {type:\"string\"}\r\n",
        "\r\n",
        "# ================================================================ #\r\n",
        "import os, urllib.request\r\n",
        "HOME = os.path.expanduser(\"~\")\r\n",
        "\r\n",
        "if not os.path.exists(f\"{HOME}/.ipython/ocr.py\"):\r\n",
        "    hCode = \"https://raw.githubusercontent.com/biplobsd/\" \\\r\n",
        "                \"OneClickRun/master/res/ocr.py\"\r\n",
        "    urllib.request.urlretrieve(hCode, f\"{HOME}/.ipython/ocr.py\")\r\n",
        "\r\n",
        "from ocr import (\r\n",
        "    runSh,\r\n",
        "    checkAvailable,\r\n",
        ")\r\n",
        "\r\n",
        "def extractFiles():\r\n",
        "    global extractPath\r\n",
        "    if ARCHIVE_PASSWORD:\r\n",
        "      passADD = f'-p{ARCHIVE_PASSWORD}'\r\n",
        "    else:\r\n",
        "      passADD = ''\r\n",
        "    if not extractPath:\r\n",
        "      extractPath = \"/content/extract\"\r\n",
        "    os.makedirs(extractPath, exist_ok=True)\r\n",
        "    if MODE == \"UNZIP\":\r\n",
        "        runSh('unzip '+passADD+f' \"{PATH_TO_FILE}\" -d \"{extractPath}\"', output=True)\r\n",
        "    elif MODE == \"UNRAR\":\r\n",
        "        runSh(f'unrar x \"{PATH_TO_FILE}\" \"{extractPath}\" '+passADD+' -o+', output=True)\r\n",
        "    elif MODE == \"UNTAR\":\r\n",
        "        runSh(f'tar -C \"{extractPath}\" -xvf \"{PATH_TO_FILE}\"', output=True)\r\n",
        "    else:\r\n",
        "        runSh(f'7z x \"{PATH_TO_FILE}\" -o{extractPath} '+passADD, output=True)\r\n",
        "\r\n",
        "\r\n",
        "extractFiles()"
      ],
      "execution_count": null,
      "outputs": []
    },
    {
      "cell_type": "markdown",
      "metadata": {
        "id": "cIRHMHEdJStV"
      },
      "source": [
        "# **Torrent to Drive**"
      ]
    },
    {
      "cell_type": "markdown",
      "metadata": {
        "id": "y7mnyVN-Ohza"
      },
      "source": [
        "### Install libtorrent and Initialize Session"
      ]
    },
    {
      "cell_type": "code",
      "metadata": {
        "id": "mYte7d3xJaem"
      },
      "source": [
        "!apt install python3-libtorrent\r\n",
        "\r\n",
        "import libtorrent as lt\r\n",
        "\r\n",
        "ses = lt.session()\r\n",
        "ses.listen_on(6881, 6891)\r\n",
        "downloads = []"
      ],
      "execution_count": null,
      "outputs": []
    },
    {
      "cell_type": "markdown",
      "metadata": {
        "id": "CgjZgVwuN7Nt"
      },
      "source": [
        "### Add From Torrent File\r\n",
        "You can run this cell to add more files as many times as you want"
      ]
    },
    {
      "cell_type": "code",
      "metadata": {
        "id": "vcEdN8NGOAzf"
      },
      "source": [
        "from google.colab import files\r\n",
        "\r\n",
        "source = files.upload()\r\n",
        "params = {\r\n",
        "    \"save_path\": \"/content/mega/\",\r\n",
        "    \"ti\": lt.torrent_info(list(source.keys())[0]),\r\n",
        "}\r\n",
        "downloads.append(ses.add_torrent(params))"
      ],
      "execution_count": null,
      "outputs": []
    },
    {
      "cell_type": "markdown",
      "metadata": {
        "id": "BvHkLn1AQi9M"
      },
      "source": [
        "### Add From Magnet Link\r\n",
        "You can run this cell to add more files as many times as you want"
      ]
    },
    {
      "cell_type": "code",
      "metadata": {
        "id": "-Njf0KnGQqWe"
      },
      "source": [
        "params = {\"save_path\": \"/content/drive/\"}\r\n",
        "\r\n",
        "while True:\r\n",
        "    magnet_link = input(\"Enter Magnet Link Or Type Exit: \")\r\n",
        "    if magnet_link.lower() == \"exit\":\r\n",
        "        break\r\n",
        "    downloads.append(\r\n",
        "        lt.add_magnet_uri(ses, magnet_link, params)\r\n",
        "    )\r\n"
      ],
      "execution_count": null,
      "outputs": []
    },
    {
      "cell_type": "markdown",
      "metadata": {
        "id": "yqfVC7g9RBCI"
      },
      "source": [
        "### Start Download"
      ]
    },
    {
      "cell_type": "code",
      "metadata": {
        "id": "04PYvw9NRDTz"
      },
      "source": [
        "import time\r\n",
        "from IPython.display import display\r\n",
        "import ipywidgets as widgets\r\n",
        "\r\n",
        "state_str = [\r\n",
        "    \"queued\",\r\n",
        "    \"checking\",\r\n",
        "    \"downloading metadata\",\r\n",
        "    \"downloading\",\r\n",
        "    \"finished\",\r\n",
        "    \"seeding\",\r\n",
        "    \"allocating\",\r\n",
        "    \"checking fastresume\",\r\n",
        "]\r\n",
        "\r\n",
        "layout = widgets.Layout(width=\"auto\")\r\n",
        "style = {\"description_width\": \"initial\"}\r\n",
        "download_bars = [\r\n",
        "    widgets.FloatSlider(\r\n",
        "        step=0.01, disabled=True, layout=layout, style=style\r\n",
        "    )\r\n",
        "    for _ in downloads\r\n",
        "]\r\n",
        "display(*download_bars)\r\n",
        "\r\n",
        "while downloads:\r\n",
        "    next_shift = 0\r\n",
        "    for index, download in enumerate(downloads[:]):\r\n",
        "        bar = download_bars[index + next_shift]\r\n",
        "        if not download.is_seed():\r\n",
        "            s = download.status()\r\n",
        "\r\n",
        "            bar.description = \" \".join(\r\n",
        "                [\r\n",
        "                    download.name(),\r\n",
        "                    str(s.download_rate / 1000),\r\n",
        "                    \"kB/s\",\r\n",
        "                    state_str[s.state],\r\n",
        "                ]\r\n",
        "            )\r\n",
        "            bar.value = s.progress * 100\r\n",
        "        else:\r\n",
        "            next_shift -= 1\r\n",
        "            ses.remove_torrent(download)\r\n",
        "            downloads.remove(download)\r\n",
        "            bar.close() # Seems to be not working in Colab (see https://github.com/googlecolab/colabtools/issues/726#issue-486731758)\r\n",
        "            download_bars.remove(bar)\r\n",
        "            print(download.name(), \"complete\")\r\n",
        "    time.sleep(1)\r\n"
      ],
      "execution_count": null,
      "outputs": []
    },
    {
      "cell_type": "markdown",
      "metadata": {
        "id": "ZQpkK8LUwnER"
      },
      "source": [
        "# **Torrent to Drive 2**"
      ]
    },
    {
      "cell_type": "markdown",
      "metadata": {
        "id": "aKNb2xoDwrFB"
      },
      "source": [
        "###Dependency"
      ]
    },
    {
      "cell_type": "code",
      "metadata": {
        "id": "hddBNO2sxBKL"
      },
      "source": [
        "!apt install python3-libtorrent"
      ],
      "execution_count": null,
      "outputs": []
    },
    {
      "cell_type": "markdown",
      "metadata": {
        "id": "BV0oG9PqxGj6"
      },
      "source": [
        "### Paste the Magnet Link here"
      ]
    },
    {
      "cell_type": "code",
      "metadata": {
        "id": "_nfnDBjQxQyD"
      },
      "source": [
        "link = input(\"PASTE TORRENT/MAGNET LINK HERE \\n\") # PASTE TORRENT/MAGNET LINK HERE"
      ],
      "execution_count": null,
      "outputs": []
    },
    {
      "cell_type": "markdown",
      "metadata": {
        "id": "KzliYqTtxgtx"
      },
      "source": [
        "### Download torrent"
      ]
    },
    {
      "cell_type": "code",
      "metadata": {
        "id": "j1D2OfjbxWLP"
      },
      "source": [
        "import libtorrent as lt\r\n",
        "import time\r\n",
        "import datetime\r\n",
        "\r\n",
        "ses = lt.session()\r\n",
        "ses.listen_on(6881, 6891)\r\n",
        "params = {\r\n",
        "    'save_path': '/content/mega',\r\n",
        "    'storage_mode': lt.storage_mode_t(2),\r\n",
        "    'paused': False,\r\n",
        "    'auto_managed': True,\r\n",
        "    'duplicate_is_error': True}\r\n",
        "\r\n",
        "print(link)\r\n",
        "\r\n",
        "handle = lt.add_magnet_uri(ses, link, params)\r\n",
        "ses.start_dht()\r\n",
        "\r\n",
        "begin = time.time()\r\n",
        "print(datetime.datetime.now())\r\n",
        "\r\n",
        "print ('Downloading Metadata...')\r\n",
        "while (not handle.has_metadata()):\r\n",
        "    time.sleep(1)\r\n",
        "print ('Got Metadata, Starting Torrent Download...')\r\n",
        "\r\n",
        "print(\"Starting\", handle.name())\r\n",
        "\r\n",
        "while (handle.status().state != lt.torrent_status.seeding):\r\n",
        "    s = handle.status()\r\n",
        "    state_str = ['queued', 'checking', 'downloading metadata', \\\r\n",
        "            'downloading', 'finished', 'seeding', 'allocating']\r\n",
        "    print ('%.2f%% complete (down: %.1f kb/s up: %.1f kB/s peers: %d) %s ' % \\\r\n",
        "            (s.progress * 100, s.download_rate / 1000, s.upload_rate / 1000, \\\r\n",
        "            s.num_peers, state_str[s.state]))\r\n",
        "    time.sleep(5)\r\n",
        "\r\n",
        "end = time.time()\r\n",
        "print(handle.name(), \"COMPLETE\")\r\n",
        "\r\n",
        "print(\"Elapsed Time: \",int((end-begin)//60),\"min :\", int((end-begin)%60), \"sec\")\r\n",
        "\r\n",
        "print(datetime.datetime.now())"
      ],
      "execution_count": null,
      "outputs": []
    }
  ]
}